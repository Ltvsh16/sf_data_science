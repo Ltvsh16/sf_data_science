{
 "cells": [
  {
   "attachments": {},
   "cell_type": "markdown",
   "metadata": {},
   "source": [
    "Тест блокнота"
   ]
  },
  {
   "cell_type": "code",
   "execution_count": 3,
   "metadata": {},
   "outputs": [
    {
     "name": "stdout",
     "output_type": "stream",
     "text": [
      "Run benchmarking for binary_predict: Ваш алгоритм угадывает число в среднем за: 5 попытки\n"
     ]
    }
   ],
   "source": [
    "import numpy as np\n",
    "\n",
    "def score_game(random_predict) -> int:\n",
    "    \"\"\"За какое количество попыток в среднем за 10000 подходов угадывает наш алгоритм\n",
    "     Алгоритм работает путем постоянного деления диапазона чисел пополам.\n",
    "    Сначала проверяется число в середине диапазона. Если число, которое мы взяли\n",
    "    больше, то это будет верхней половиной предыдущего.Если загаданное число меньше, то новый диапазон\n",
    "    становится нижней половиной предыдущего диапазона.\n",
    "    Процесс продолжается до тех пор, пока не будет найдено загаданное число.\n",
    "\n",
    "    Args:\n",
    "        random_predict ([type]): функция угадывания\n",
    "\n",
    "    Returns:\n",
    "        int: среднее количество попыток\n",
    "    \"\"\"\n",
    "    count_ls = []\n",
    "    random_array = np.random.randint(1, 101, size=(10000))  # загадали список чисел\n",
    "\n",
    "    for number in random_array:\n",
    "        count_ls.append(random_predict(number))\n",
    "\n",
    "    score = int(np.mean(count_ls))\n",
    "    print(f\"Ваш алгоритм угадывает число в среднем за: {score} попытки\")\n",
    "\n",
    "def binary_predict(number: int = 1) -> int:\n",
    "    \"\"\"Угадываем число, используя алгоритм бинарного поиска.\n",
    "    Args:\n",
    "        number (int, optional): Загаданное число. Defaults to 1.\n",
    "    Returns:\n",
    "        int: Число попыток\n",
    "    \"\"\"\n",
    "    count = 1\n",
    "    lower_bound = 1\n",
    "    upper_bound = 101\n",
    "    predict = (lower_bound + upper_bound) // 2\n",
    "    \n",
    "    while number != predict:\n",
    "        count += 1\n",
    "        if number > predict:\n",
    "            lower_bound = predict\n",
    "        elif number < predict:\n",
    "            upper_bound = predict\n",
    "        \n",
    "        predict = (lower_bound + upper_bound) // 2\n",
    "\n",
    "    return count\n",
    "\n",
    "print('Run benchmarking for binary_predict: ', end='')\n",
    "score_game(binary_predict)\n"
   ]
  }
 ],
 "metadata": {
  "kernelspec": {
   "display_name": "Python 3",
   "language": "python",
   "name": "python3"
  },
  "language_info": {
   "codemirror_mode": {
    "name": "ipython",
    "version": 3
   },
   "file_extension": ".py",
   "mimetype": "text/x-python",
   "name": "python",
   "nbconvert_exporter": "python",
   "pygments_lexer": "ipython3",
   "version": "3.11.4"
  },
  "orig_nbformat": 4
 },
 "nbformat": 4,
 "nbformat_minor": 2
}
